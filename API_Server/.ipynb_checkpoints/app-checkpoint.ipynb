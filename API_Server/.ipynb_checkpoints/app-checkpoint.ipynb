{
 "cells": [
  {
   "cell_type": "code",
   "execution_count": 6,
   "metadata": {},
   "outputs": [],
   "source": [
    "from flask import Flask, render_template\n",
    "from flask_restful import Api, Resource, reqparse\n",
    "from flask_cors import CORS #comment this on deployment\n",
    "#from api.TestApi import TestApi\n",
    "\n",
    "\n",
    "app = Flask(__name__)\n",
    "CORS(app)\n",
    "api = Api(app)"
   ]
  },
  {
   "cell_type": "code",
   "execution_count": 11,
   "metadata": {},
   "outputs": [],
   "source": [
    "@app.route('/api/predict', methods=['GET'])\n",
    "def predict():\n",
    "    return {\n",
    "      'resultStatus': 'SUCCESS',\n",
    "      'message': \"Predict\",\n",
    "      }\n",
    "\n",
    "@app.route(\"/api/test\")\n",
    "def test():      \n",
    "    import import_ipynb\n",
    "    from api.test_api import test_api\n",
    "    date1, x1, origin_x, a1 = test_api()\n",
    "    return {\n",
    "      'date': date1, \n",
    "      'x': x1, \n",
    "      'originX': origin_x, \n",
    "      'a': a1\n",
    "      }\n",
    "\n",
    "#api.add_resource(TestApi, '/test')\n"
   ]
  },
  {
   "cell_type": "code",
   "execution_count": 12,
   "metadata": {},
   "outputs": [],
   "source": [
    "host_addr = \"127.0.0.1\"\n",
    "port_num = \"7000\""
   ]
  },
  {
   "cell_type": "code",
   "execution_count": null,
   "metadata": {},
   "outputs": [
    {
     "name": "stdout",
     "output_type": "stream",
     "text": [
      " * Serving Flask app \"__main__\" (lazy loading)\n",
      " * Environment: production\n",
      "   WARNING: This is a development server. Do not use it in a production deployment.\n",
      "   Use a production WSGI server instead.\n",
      " * Debug mode: off\n"
     ]
    },
    {
     "name": "stderr",
     "output_type": "stream",
     "text": [
      " * Running on http://127.0.0.1:7000/ (Press CTRL+C to quit)\n"
     ]
    }
   ],
   "source": [
    "if __name__ == \"__main__\":\n",
    "    app.run(host=host_addr, port=port_num)"
   ]
  },
  {
   "cell_type": "code",
   "execution_count": null,
   "metadata": {},
   "outputs": [],
   "source": []
  }
 ],
 "metadata": {
  "kernelspec": {
   "display_name": "Python 3",
   "language": "python",
   "name": "python3"
  },
  "language_info": {
   "codemirror_mode": {
    "name": "ipython",
    "version": 3
   },
   "file_extension": ".py",
   "mimetype": "text/x-python",
   "name": "python",
   "nbconvert_exporter": "python",
   "pygments_lexer": "ipython3",
   "version": "3.7.6"
  }
 },
 "nbformat": 4,
 "nbformat_minor": 4
}
