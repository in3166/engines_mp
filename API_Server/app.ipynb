{
 "cells": [
  {
   "cell_type": "code",
   "execution_count": 1,
   "metadata": {},
   "outputs": [],
   "source": [
    "from flask import Flask, render_template\n",
    "from flask_restful import Api, Resource, reqparse\n",
    "from flask_cors import CORS #comment this on deployment\n",
    "#from api.TestApi import TestApi\n",
    "\n",
    "\n",
    "app = Flask(__name__)\n",
    "CORS(app)\n",
    "api = Api(app)"
   ]
  },
  {
   "cell_type": "code",
   "execution_count": 2,
   "metadata": {},
   "outputs": [],
   "source": [
    "@app.route('/api/predict', methods=['GET'])\n",
    "def predict():\n",
    "    return {\n",
    "      'resultStatus': 'SUCCESS',\n",
    "      'message': \"Predict\",\n",
    "      }\n",
    "\n",
    "@app.route(\"/api/test\")\n",
    "def test():      \n",
    "    import import_ipynb\n",
    "    from api.test_api import test_api\n",
    "    date1, x1, origin_x, a1 = test_api()\n",
    "    return {\n",
    "      'date': date1, \n",
    "      'x': x1, \n",
    "      'originX': origin_x, \n",
    "      'a': a1\n",
    "      }\n",
    "\n",
    "#api.add_resource(TestApi, '/test')\n"
   ]
  },
  {
   "cell_type": "code",
   "execution_count": 3,
   "metadata": {},
   "outputs": [],
   "source": [
    "host_addr = \"127.0.0.1\"\n",
    "port_num = \"7000\""
   ]
  },
  {
   "cell_type": "code",
   "execution_count": 8,
   "metadata": {
    "tags": []
   },
   "outputs": [
    {
     "output_type": "stream",
     "name": "stdout",
     "text": [
      " * Serving Flask app \"__main__\" (lazy loading)\n",
      " * Environment: production\n",
      "   WARNING: This is a development server. Do not use it in a production deployment.\n",
      "   Use a production WSGI server instead.\n",
      " * Debug mode: off\n",
      " * Running on http://127.0.0.1:7000/ (Press CTRL+C to quit)\n",
      "[2021-05-24 17:04:55,381] ERROR in app: Exception on /api/test [GET]\n",
      "Traceback (most recent call last):\n",
      "  File \"C:\\Users\\yu\\anaconda3\\envs\\tensorflow\\lib\\site-packages\\flask\\app.py\", line 2447, in wsgi_app\n",
      "    response = self.full_dispatch_request()\n",
      "  File \"C:\\Users\\yu\\anaconda3\\envs\\tensorflow\\lib\\site-packages\\flask\\app.py\", line 1952, in full_dispatch_request\n",
      "    rv = self.handle_user_exception(e)\n",
      "  File \"C:\\Users\\yu\\anaconda3\\envs\\tensorflow\\lib\\site-packages\\flask_restful\\__init__.py\", line 272, in error_router\n",
      "    return original_handler(e)\n",
      "  File \"C:\\Users\\yu\\anaconda3\\envs\\tensorflow\\lib\\site-packages\\flask_cors\\extension.py\", line 165, in wrapped_function\n",
      "    return cors_after_request(app.make_response(f(*args, **kwargs)))\n",
      "  File \"C:\\Users\\yu\\anaconda3\\envs\\tensorflow\\lib\\site-packages\\flask\\app.py\", line 1821, in handle_user_exception\n",
      "    reraise(exc_type, exc_value, tb)\n",
      "  File \"C:\\Users\\yu\\anaconda3\\envs\\tensorflow\\lib\\site-packages\\flask\\_compat.py\", line 39, in reraise\n",
      "    raise value\n",
      "  File \"C:\\Users\\yu\\anaconda3\\envs\\tensorflow\\lib\\site-packages\\flask\\app.py\", line 1950, in full_dispatch_request\n",
      "    rv = self.dispatch_request()\n",
      "  File \"C:\\Users\\yu\\anaconda3\\envs\\tensorflow\\lib\\site-packages\\flask\\app.py\", line 1936, in dispatch_request\n",
      "    return self.view_functions[rule.endpoint](**req.view_args)\n",
      "  File \"<ipython-input-6-25d45e88671c>\", line 11, in test\n",
      "    from api.test_api import test_api\n",
      "ImportError: cannot import name 'test_api' from 'api.test_api' (c:\\jupyter\\linear\\Jintech\\engine2\\web-react\\API_Server\\api\\test_api.ipynb)\n",
      "127.0.0.1 - - [24/May/2021 17:04:55] \"\u001b[1m\u001b[35mGET /api/test HTTP/1.1\u001b[0m\" 500 -\n"
     ]
    }
   ],
   "source": [
    "if __name__ == \"__main__\":\n",
    "    app.run(host=host_addr, port=port_num)"
   ]
  },
  {
   "cell_type": "code",
   "execution_count": null,
   "metadata": {},
   "outputs": [],
   "source": []
  }
 ],
 "metadata": {
  "kernelspec": {
   "name": "python376jvsc74a57bd03e592c4a5b47bd41395c84b4363f15991f7bccf133fc99f5f27935a994dd51d8",
   "display_name": "Python 3.7.6 64-bit ('tensorflow': conda)"
  },
  "language_info": {
   "codemirror_mode": {
    "name": "ipython",
    "version": 3
   },
   "file_extension": ".py",
   "mimetype": "text/x-python",
   "name": "python",
   "nbconvert_exporter": "python",
   "pygments_lexer": "ipython3",
   "version": "3.7.6"
  }
 },
 "nbformat": 4,
 "nbformat_minor": 4
}