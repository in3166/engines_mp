{
 "cells": [
  {
   "cell_type": "code",
   "execution_count": 1,
   "metadata": {},
   "outputs": [],
   "source": [
    "from flask import Flask, render_template\n",
    "from flask_restful import Api, Resource, reqparse\n",
    "from flask_cors import CORS #comment this on deployment\n",
    "#from api.TestApi import TestApi\n",
    "\n",
    "\n",
    "app = Flask(__name__)\n",
    "CORS(app)\n",
    "api = Api(app)"
   ]
  },
  {
   "cell_type": "code",
   "execution_count": 2,
   "metadata": {},
   "outputs": [],
   "source": [
    "@app.route('/api/predict', methods=['GET'])\n",
    "def predict():\n",
    "    return {\n",
    "      'resultStatus': 'SUCCESS',\n",
    "      'message': \"Predict\",\n",
    "      }\n",
    "\n",
    "@app.route(\"/api/test\")\n",
    "def test():      \n",
    "    import import_ipynb\n",
    "    from api.predict_API import predict_API\n",
    "    date1, x1, origin_x, a1 = predict_API()\n",
    "    return {\n",
    "      'date': date1, \n",
    "      'x': x1, \n",
    "      'originX': origin_x, \n",
    "      'a': a1\n",
    "      }\n"
   ]
  },
  {
   "cell_type": "code",
   "execution_count": 3,
   "metadata": {},
   "outputs": [],
   "source": [
    "host_addr = \"127.0.0.1\"\n",
    "port_num = \"7000\""
   ]
  },
  {
   "cell_type": "code",
   "execution_count": 4,
   "metadata": {
    "tags": []
   },
   "outputs": [
    {
     "name": "stdout",
     "output_type": "stream",
     "text": [
      " * Serving Flask app \"__main__\" (lazy loading)\n",
      " * Environment: production\n",
      "   WARNING: This is a development server. Do not use it in a production deployment.\n",
      "   Use a production WSGI server instead.\n",
      " * Debug mode: off\n"
     ]
    },
    {
     "name": "stderr",
     "output_type": "stream",
     "text": [
      " * Running on http://127.0.0.1:7000/ (Press CTRL+C to quit)\n"
     ]
    },
    {
     "name": "stdout",
     "output_type": "stream",
     "text": [
      "importing Jupyter notebook from c:\\jupyter\\linear\\Jintech\\engine2\\web-react\\API_Server\\api\\test_api.ipynb\n"
     ]
    },
    {
     "name": "stderr",
     "output_type": "stream",
     "text": [
      "Using TensorFlow backend.\n",
      "c:\\jupyter\\linear\\Jintech\\engine2\\web-react\\API_Server\\api\\test_api.ipynb:25: FutureWarning: The pandas.datetime class is deprecated and will be removed from pandas in a future version. Import from datetime module instead.\n",
      "  \"\\r\\n\",\n"
     ]
    },
    {
     "name": "stdout",
     "output_type": "stream",
     "text": [
      "558\n",
      "Model: \"sequential\"\n",
      "_________________________________________________________________\n",
      "Layer (type)                 Output Shape              Param #   \n",
      "=================================================================\n",
      "lstm (LSTM)                  (100, 1, 100)             160000    \n",
      "_________________________________________________________________\n",
      "lstm_1 (LSTM)                (100, 1, 90)              68760     \n",
      "_________________________________________________________________\n",
      "bidirectional (Bidirectional (100, 120)                72480     \n",
      "_________________________________________________________________\n",
      "dense (Dense)                (100, 300)                36300     \n",
      "=================================================================\n",
      "Total params: 337,540\n",
      "Trainable params: 337,540\n",
      "Non-trainable params: 0\n",
      "_________________________________________________________________\n",
      "None\n",
      "Total epoch: 1 / 10\n",
      "Train on 5400 samples\n",
      "5400/5400 [==============================] - 8s 1ms/sample - loss: 0.0147\n",
      "Total epoch: 2 / 10\n",
      "Train on 5400 samples\n",
      "5400/5400 [==============================] - 1s 144us/sample - loss: 0.0033\n",
      "Total epoch: 3 / 10\n",
      "Train on 5400 samples\n",
      "5400/5400 [==============================] - 1s 190us/sample - loss: 0.0024\n",
      "Total epoch: 4 / 10\n",
      "Train on 5400 samples\n",
      "5400/5400 [==============================] - 1s 168us/sample - loss: 0.0019\n",
      "Total epoch: 5 / 10\n",
      "Train on 5400 samples\n",
      "5400/5400 [==============================] - 1s 147us/sample - loss: 0.0017\n",
      "Total epoch: 6 / 10\n",
      "Train on 5400 samples\n",
      "5400/5400 [==============================] - 1s 149us/sample - loss: 0.0015\n",
      "Total epoch: 7 / 10\n",
      "Train on 5400 samples\n",
      "5400/5400 [==============================] - 1s 157us/sample - loss: 0.0014\n",
      "Total epoch: 8 / 10\n",
      "Train on 5400 samples\n",
      "5400/5400 [==============================] - 1s 136us/sample - loss: 0.0013\n",
      "Total epoch: 9 / 10\n",
      "Train on 5400 samples\n",
      "5400/5400 [==============================] - 1s 138us/sample - loss: 0.0013\n",
      "Total epoch: 10 / 10\n",
      "Train on 5400 samples\n",
      "5400/5400 [==============================] - 1s 140us/sample - loss: 0.0013\n"
     ]
    },
    {
     "name": "stderr",
     "output_type": "stream",
     "text": [
      "127.0.0.1 - - [01/Oct/2021 13:56:50] \"\u001b[37mGET /api/test HTTP/1.1\u001b[0m\" 200 -\n"
     ]
    }
   ],
   "source": [
    "if __name__ == \"__main__\":\n",
    "    app.run(host=host_addr, port=port_num)"
   ]
  },
  {
   "cell_type": "code",
   "execution_count": null,
   "metadata": {},
   "outputs": [],
   "source": []
  }
 ],
 "metadata": {
  "interpreter": {
   "hash": "3e592c4a5b47bd41395c84b4363f15991f7bccf133fc99f5f27935a994dd51d8"
  },
  "kernelspec": {
   "display_name": "Python 3.7.6 64-bit ('tensorflow': conda)",
   "name": "python3"
  },
  "language_info": {
   "codemirror_mode": {
    "name": "ipython",
    "version": 3
   },
   "file_extension": ".py",
   "mimetype": "text/x-python",
   "name": "python",
   "nbconvert_exporter": "python",
   "pygments_lexer": "ipython3",
   "version": "3.7.6"
  }
 },
 "nbformat": 4,
 "nbformat_minor": 4
}
