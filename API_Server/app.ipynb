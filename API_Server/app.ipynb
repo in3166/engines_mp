{
 "cells": [
  {
   "cell_type": "code",
   "execution_count": null,
   "metadata": {},
   "outputs": [],
   "source": [
    "from flask import Flask, render_template\n",
    "from flask_restful import Api, Resource, reqparse\n",
    "from flask_cors import CORS #comment this on deployment\n",
    "from api.TestApi import TestApi\n",
    "\n",
    "\n",
    "app = Flask(__name__)\n",
    "CORS(app)\n",
    "api = Api(app)"
   ]
  },
  {
   "cell_type": "code",
   "execution_count": 2,
   "metadata": {},
   "outputs": [],
   "source": [
    "@app.route('/api/predict', methods=['GET'])\n",
    "def predict():\n",
    "    return {\n",
    "      'resultStatus': 'SUCCESS',\n",
    "      'message': \"Predict\",\n",
    "      }\n",
    "\n",
    "@app.route(\"/api/test\")\n",
    "def test():      \n",
    "    import import_ipynb\n",
    "    from api.test_api import test_api\n",
    "    date1, x1, origin_x, a1 = test_api()\n",
    "    return {\n",
    "      'date': date1, \n",
    "      'x': x1, \n",
    "      'originX': origin_x, \n",
    "      'a': a1\n",
    "      }\n",
    "\n",
    "#api.add_resource(TestApi, '/test')\n"
   ]
  },
  {
   "cell_type": "code",
   "execution_count": 3,
   "metadata": {},
   "outputs": [],
   "source": [
    "host_addr = \"127.0.0.1\"\n",
    "port_num = \"7000\""
   ]
  },
  {
   "cell_type": "code",
   "execution_count": 4,
   "metadata": {
    "tags": []
   },
   "outputs": [
    {
     "output_type": "stream",
     "name": "stdout",
     "text": [
      " * Serving Flask app \"__main__\" (lazy loading)\n",
      " * Environment: production\n",
      "   WARNING: This is a development server. Do not use it in a production deployment.\n",
      "   Use a production WSGI server instead.\n",
      " * Debug mode: off\n",
      " * Running on http://127.0.0.1:7000/ (Press CTRL+C to quit)\n",
      "importing Jupyter notebook from c:\\jupyter\\linear\\Jintech\\engine2\\web-react\\API_Server\\api\\test_api.ipynb\n",
      "Using TensorFlow backend.\n",
      "c:\\jupyter\\linear\\Jintech\\engine2\\web-react\\API_Server\\api\\test_api.ipynb:25: FutureWarning: The pandas.datetime class is deprecated and will be removed from pandas in a future version. Import from datetime module instead.\n",
      "  \"\\n\",\n",
      "[2021-07-19 14:35:29,139] ERROR in app: Exception on /api/test [GET]\n",
      "Traceback (most recent call last):\n",
      "  File \"C:\\Users\\yu\\anaconda3\\envs\\tensorflow\\lib\\site-packages\\flask\\app.py\", line 2447, in wsgi_app\n",
      "    response = self.full_dispatch_request()\n",
      "  File \"C:\\Users\\yu\\anaconda3\\envs\\tensorflow\\lib\\site-packages\\flask\\app.py\", line 1952, in full_dispatch_request\n",
      "    rv = self.handle_user_exception(e)\n",
      "  File \"C:\\Users\\yu\\anaconda3\\envs\\tensorflow\\lib\\site-packages\\flask_restful\\__init__.py\", line 272, in error_router\n",
      "    return original_handler(e)\n",
      "  File \"C:\\Users\\yu\\anaconda3\\envs\\tensorflow\\lib\\site-packages\\flask_cors\\extension.py\", line 165, in wrapped_function\n",
      "    return cors_after_request(app.make_response(f(*args, **kwargs)))\n",
      "  File \"C:\\Users\\yu\\anaconda3\\envs\\tensorflow\\lib\\site-packages\\flask\\app.py\", line 1821, in handle_user_exception\n",
      "    reraise(exc_type, exc_value, tb)\n",
      "  File \"C:\\Users\\yu\\anaconda3\\envs\\tensorflow\\lib\\site-packages\\flask\\_compat.py\", line 39, in reraise\n",
      "    raise value\n",
      "  File \"C:\\Users\\yu\\anaconda3\\envs\\tensorflow\\lib\\site-packages\\flask\\app.py\", line 1950, in full_dispatch_request\n",
      "    rv = self.dispatch_request()\n",
      "  File \"C:\\Users\\yu\\anaconda3\\envs\\tensorflow\\lib\\site-packages\\flask\\app.py\", line 1936, in dispatch_request\n",
      "    return self.view_functions[rule.endpoint](**req.view_args)\n",
      "  File \"<ipython-input-2-25d45e88671c>\", line 12, in test\n",
      "    date1, x1, origin_x, a1 = test_api()\n",
      "  File \"<string>\", line 3, in test_api\n",
      "  File \"<string>\", line 22, in read_file\n",
      "  File \"C:\\Users\\yu\\anaconda3\\envs\\tensorflow\\lib\\site-packages\\pandas\\core\\reshape\\concat.py\", line 281, in concat\n",
      "    sort=sort,\n",
      "  File \"C:\\Users\\yu\\anaconda3\\envs\\tensorflow\\lib\\site-packages\\pandas\\core\\reshape\\concat.py\", line 329, in __init__\n",
      "    raise ValueError(\"No objects to concatenate\")\n",
      "ValueError: No objects to concatenate\n",
      "127.0.0.1 - - [19/Jul/2021 14:35:29] \"\u001b[1m\u001b[35mGET /api/test HTTP/1.1\u001b[0m\" 500 -\n"
     ]
    }
   ],
   "source": [
    "if __name__ == \"__main__\":\n",
    "    app.run(host=host_addr, port=port_num)"
   ]
  },
  {
   "cell_type": "code",
   "execution_count": null,
   "metadata": {},
   "outputs": [],
   "source": []
  }
 ],
 "metadata": {
  "kernelspec": {
   "name": "python3",
   "display_name": "Python 3.7.6 64-bit ('tensorflow': conda)"
  },
  "language_info": {
   "codemirror_mode": {
    "name": "ipython",
    "version": 3
   },
   "file_extension": ".py",
   "mimetype": "text/x-python",
   "name": "python",
   "nbconvert_exporter": "python",
   "pygments_lexer": "ipython3",
   "version": "3.7.6"
  },
  "interpreter": {
   "hash": "3e592c4a5b47bd41395c84b4363f15991f7bccf133fc99f5f27935a994dd51d8"
  }
 },
 "nbformat": 4,
 "nbformat_minor": 4
}