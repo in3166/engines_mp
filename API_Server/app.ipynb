{
 "cells": [
  {
   "cell_type": "code",
   "execution_count": 1,
   "metadata": {},
   "outputs": [],
   "source": [
    "from flask import Flask, render_template\n",
    "from flask_restful import Api, Resource, reqparse\n",
    "from flask_cors import CORS #comment this on deployment\n",
    "#from api.TestApi import TestApi\n",
    "\n",
    "app = Flask(__name__)\n",
    "CORS(app)\n",
    "api = Api(app)"
   ]
  },
  {
   "cell_type": "code",
   "execution_count": 2,
   "metadata": {},
   "outputs": [],
   "source": [
    "\n",
    "\n",
    "@app.route('/api/predict', methods=['GET'])\n",
    "def predict():\n",
    "    return {\n",
    "      'resultStatus': 'SUCCESS',\n",
    "      'message': \"Predict\"\n",
    "      }\n",
    "\n",
    "@app.route(\"/api/test\")\n",
    "def chart1():             \n",
    "    return {\n",
    "      'resultStatus': 'SUCCESS',\n",
    "      'message': \"/test [GET]\"\n",
    "      }\n",
    "\n",
    "#api.add_resource(TestApi, '/test')\n"
   ]
  },
  {
   "cell_type": "code",
   "execution_count": 3,
   "metadata": {},
   "outputs": [],
   "source": [
    "host_addr = \"127.0.0.1\"\n",
    "port_num = \"7000\""
   ]
  },
  {
   "cell_type": "code",
   "execution_count": 4,
   "metadata": {},
   "outputs": [
    {
     "output_type": "stream",
     "name": "stdout",
     "text": [
      " * Serving Flask app \"__main__\" (lazy loading)\n",
      " * Environment: production\n",
      "   WARNING: This is a development server. Do not use it in a production deployment.\n",
      "   Use a production WSGI server instead.\n",
      " * Debug mode: off\n",
      " * Running on http://127.0.0.1:7000/ (Press CTRL+C to quit)\n",
      "127.0.0.1 - - [24/May/2021 11:03:06] \"\u001b[37mGET /api/predict HTTP/1.1\u001b[0m\" 200 -\n",
      "127.0.0.1 - - [24/May/2021 11:04:22] \"\u001b[37mGET /api/predict HTTP/1.1\u001b[0m\" 200 -\n"
     ]
    }
   ],
   "source": [
    "if __name__ == \"__main__\":\n",
    "    app.run(host=host_addr, port=port_num)"
   ]
  },
  {
   "cell_type": "code",
   "execution_count": null,
   "metadata": {},
   "outputs": [],
   "source": []
  }
 ],
 "metadata": {
  "kernelspec": {
   "name": "python376jvsc74a57bd03e592c4a5b47bd41395c84b4363f15991f7bccf133fc99f5f27935a994dd51d8",
   "display_name": "Python 3.7.6 64-bit ('tensorflow': conda)"
  },
  "language_info": {
   "codemirror_mode": {
    "name": "ipython",
    "version": 3
   },
   "file_extension": ".py",
   "mimetype": "text/x-python",
   "name": "python",
   "nbconvert_exporter": "python",
   "pygments_lexer": "ipython3",
   "version": "3.7.6"
  }
 },
 "nbformat": 4,
 "nbformat_minor": 4
}