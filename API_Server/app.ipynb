{
 "cells": [
  {
   "cell_type": "code",
   "execution_count": null,
   "source": [
    "from flask import Flask, render_template\r\n",
    "from flask_restful import Api, Resource, reqparse\r\n",
    "from flask_cors import CORS #comment this on deployment\r\n",
    "#from api.TestApi import TestApi\r\n",
    "\r\n",
    "\r\n",
    "app = Flask(__name__)\r\n",
    "CORS(app)\r\n",
    "api = Api(app)"
   ],
   "outputs": [],
   "metadata": {}
  },
  {
   "cell_type": "code",
   "execution_count": null,
   "source": [
    "@app.route('/api/predict', methods=['GET'])\r\n",
    "def predict():\r\n",
    "    return {\r\n",
    "      'resultStatus': 'SUCCESS',\r\n",
    "      'message': \"Predict\",\r\n",
    "      }\r\n",
    "\r\n",
    "@app.route(\"/api/test\")\r\n",
    "def test():      \r\n",
    "    import import_ipynb\r\n",
    "    from api.test_api import test_api\r\n",
    "    date1, x1, origin_x, a1 = test_api()\r\n",
    "    return {\r\n",
    "      'date': date1, \r\n",
    "      'x': x1, \r\n",
    "      'originX': origin_x, \r\n",
    "      'a': a1\r\n",
    "      }\r\n",
    "\r\n",
    "#api.add_resource(TestApi, '/test')\r\n"
   ],
   "outputs": [],
   "metadata": {}
  },
  {
   "cell_type": "code",
   "execution_count": null,
   "source": [
    "host_addr = \"127.0.0.1\"\r\n",
    "port_num = \"7000\""
   ],
   "outputs": [],
   "metadata": {}
  },
  {
   "cell_type": "code",
   "execution_count": null,
   "source": [
    "if __name__ == \"__main__\":\r\n",
    "    app.run(host=host_addr, port=port_num)"
   ],
   "outputs": [],
   "metadata": {
    "tags": []
   }
  },
  {
   "cell_type": "code",
   "execution_count": null,
   "source": [],
   "outputs": [],
   "metadata": {}
  }
 ],
 "metadata": {
  "kernelspec": {
   "name": "python3",
   "display_name": "Python 3.7.6 64-bit ('tensorflow': conda)"
  },
  "language_info": {
   "codemirror_mode": {
    "name": "ipython",
    "version": 3
   },
   "file_extension": ".py",
   "mimetype": "text/x-python",
   "name": "python",
   "nbconvert_exporter": "python",
   "pygments_lexer": "ipython3",
   "version": "3.7.6"
  },
  "interpreter": {
   "hash": "3e592c4a5b47bd41395c84b4363f15991f7bccf133fc99f5f27935a994dd51d8"
  }
 },
 "nbformat": 4,
 "nbformat_minor": 4
}