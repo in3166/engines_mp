{
 "cells": [
  {
   "cell_type": "code",
   "execution_count": 23,
   "metadata": {},
   "outputs": [],
   "source": [
    "from flask import Flask, render_template\n",
    "from flask_restful import Api, Resource, reqparse\n",
    "from flask_cors import CORS #comment this on deployment\n",
    "#from api.TestApi import TestApi\n",
    "\n",
    "app = Flask(__name__)\n",
    "CORS(app)\n",
    "api = Api(app)"
   ]
  },
  {
   "cell_type": "code",
   "execution_count": 24,
   "metadata": {},
   "outputs": [],
   "source": [
    "\n",
    "\n",
    "@app.route('/api/predict', methods=['POST'])\n",
    "def predict():\n",
    "    return {\n",
    "      'resultStatus': 'SUCCESS',\n",
    "      'message': \"Predict\"\n",
    "      }\n",
    "\n",
    "@app.route(\"/api/test\")\n",
    "def chart1():             \n",
    "    return {\n",
    "      'resultStatus': 'SUCCESS',\n",
    "      'message': \"/test [GET]\"\n",
    "      }\n",
    "\n",
    "#api.add_resource(TestApi, '/test')\n"
   ]
  },
  {
   "cell_type": "code",
   "execution_count": 25,
   "metadata": {},
   "outputs": [],
   "source": [
    "host_addr = \"127.0.0.1\"\n",
    "port_num = \"5000\""
   ]
  },
  {
   "cell_type": "code",
   "execution_count": 22,
   "metadata": {},
   "outputs": [
    {
     "output_type": "stream",
     "name": "stdout",
     "text": [
      " * Serving Flask app \"__main__\" (lazy loading)\n",
      " * Environment: production\n",
      "   WARNING: This is a development server. Do not use it in a production deployment.\n",
      "   Use a production WSGI server instead.\n",
      " * Debug mode: off\n",
      " * Running on http://127.0.0.1:5000/ (Press CTRL+C to quit)\n",
      "127.0.0.1 - - [14/Apr/2021 15:38:28] \"\u001b[33mGET / HTTP/1.1\u001b[0m\" 404 -\n",
      "127.0.0.1 - - [14/Apr/2021 15:38:31] \"\u001b[33mGET / HTTP/1.1\u001b[0m\" 404 -\n",
      "127.0.0.1 - - [14/Apr/2021 15:38:49] \"\u001b[33mGET / HTTP/1.1\u001b[0m\" 404 -\n",
      "127.0.0.1 - - [14/Apr/2021 15:38:49] \"\u001b[33mGET /favicon.ico HTTP/1.1\u001b[0m\" 404 -\n",
      "127.0.0.1 - - [14/Apr/2021 15:38:56] \"\u001b[33mGET /test HTTP/1.1\u001b[0m\" 404 -\n",
      "127.0.0.1 - - [14/Apr/2021 15:39:05] \"\u001b[33mGET /predict HTTP/1.1\u001b[0m\" 404 -\n",
      "127.0.0.1 - - [14/Apr/2021 15:39:10] \"\u001b[33mGET / HTTP/1.1\u001b[0m\" 404 -\n",
      "127.0.0.1 - - [14/Apr/2021 15:39:17] \"\u001b[33mGET / HTTP/1.1\u001b[0m\" 404 -\n",
      "127.0.0.1 - - [14/Apr/2021 15:39:18] \"\u001b[33mGET /favicon.ico HTTP/1.1\u001b[0m\" 404 -\n",
      "127.0.0.1 - - [14/Apr/2021 15:41:14] \"\u001b[33mGET / HTTP/1.1\u001b[0m\" 404 -\n",
      "127.0.0.1 - - [14/Apr/2021 15:41:15] \"\u001b[33mGET / HTTP/1.1\u001b[0m\" 404 -\n",
      "127.0.0.1 - - [14/Apr/2021 15:41:16] \"\u001b[33mGET / HTTP/1.1\u001b[0m\" 404 -\n",
      "127.0.0.1 - - [14/Apr/2021 15:41:16] \"\u001b[33mGET / HTTP/1.1\u001b[0m\" 404 -\n",
      "127.0.0.1 - - [14/Apr/2021 15:41:16] \"\u001b[33mGET / HTTP/1.1\u001b[0m\" 404 -\n",
      "127.0.0.1 - - [14/Apr/2021 15:41:16] \"\u001b[33mGET / HTTP/1.1\u001b[0m\" 404 -\n",
      "127.0.0.1 - - [14/Apr/2021 15:41:16] \"\u001b[33mGET / HTTP/1.1\u001b[0m\" 404 -\n",
      "127.0.0.1 - - [14/Apr/2021 15:41:16] \"\u001b[33mGET / HTTP/1.1\u001b[0m\" 404 -\n",
      "127.0.0.1 - - [14/Apr/2021 15:41:17] \"\u001b[33mGET / HTTP/1.1\u001b[0m\" 404 -\n",
      "127.0.0.1 - - [14/Apr/2021 15:41:21] \"\u001b[33mGET /login HTTP/1.1\u001b[0m\" 404 -\n",
      "127.0.0.1 - - [14/Apr/2021 15:43:01] \"\u001b[33mGET /login HTTP/1.1\u001b[0m\" 404 -\n",
      "127.0.0.1 - - [14/Apr/2021 15:43:02] \"\u001b[33mGET /login HTTP/1.1\u001b[0m\" 404 -\n",
      "127.0.0.1 - - [14/Apr/2021 15:43:02] \"\u001b[33mGET /login HTTP/1.1\u001b[0m\" 404 -\n",
      "127.0.0.1 - - [14/Apr/2021 15:43:02] \"\u001b[33mGET /login HTTP/1.1\u001b[0m\" 404 -\n",
      "127.0.0.1 - - [14/Apr/2021 15:43:03] \"\u001b[33mGET / HTTP/1.1\u001b[0m\" 404 -\n",
      "127.0.0.1 - - [14/Apr/2021 15:44:11] \"\u001b[33mGET / HTTP/1.1\u001b[0m\" 404 -\n",
      "127.0.0.1 - - [14/Apr/2021 15:44:12] \"\u001b[33mGET / HTTP/1.1\u001b[0m\" 404 -\n",
      "127.0.0.1 - - [14/Apr/2021 15:44:12] \"\u001b[33mGET / HTTP/1.1\u001b[0m\" 404 -\n",
      "127.0.0.1 - - [14/Apr/2021 15:44:12] \"\u001b[33mGET / HTTP/1.1\u001b[0m\" 404 -\n",
      "127.0.0.1 - - [14/Apr/2021 15:44:12] \"\u001b[33mGET / HTTP/1.1\u001b[0m\" 404 -\n",
      "127.0.0.1 - - [14/Apr/2021 15:44:12] \"\u001b[33mGET / HTTP/1.1\u001b[0m\" 404 -\n",
      "127.0.0.1 - - [14/Apr/2021 15:44:13] \"\u001b[33mGET / HTTP/1.1\u001b[0m\" 404 -\n",
      "127.0.0.1 - - [14/Apr/2021 15:44:13] \"\u001b[33mGET / HTTP/1.1\u001b[0m\" 404 -\n",
      "127.0.0.1 - - [14/Apr/2021 15:44:13] \"\u001b[33mGET / HTTP/1.1\u001b[0m\" 404 -\n",
      "127.0.0.1 - - [14/Apr/2021 15:44:23] \"\u001b[33mGET / HTTP/1.1\u001b[0m\" 404 -\n",
      "127.0.0.1 - - [14/Apr/2021 15:44:23] \"\u001b[33mGET / HTTP/1.1\u001b[0m\" 404 -\n",
      "127.0.0.1 - - [14/Apr/2021 15:44:23] \"\u001b[33mGET / HTTP/1.1\u001b[0m\" 404 -\n",
      "127.0.0.1 - - [14/Apr/2021 15:44:24] \"\u001b[33mGET / HTTP/1.1\u001b[0m\" 404 -\n",
      "127.0.0.1 - - [14/Apr/2021 15:44:24] \"\u001b[33mGET / HTTP/1.1\u001b[0m\" 404 -\n",
      "127.0.0.1 - - [14/Apr/2021 15:44:24] \"\u001b[33mGET / HTTP/1.1\u001b[0m\" 404 -\n",
      "127.0.0.1 - - [14/Apr/2021 15:44:24] \"\u001b[33mGET / HTTP/1.1\u001b[0m\" 404 -\n",
      "127.0.0.1 - - [14/Apr/2021 15:44:24] \"\u001b[33mGET / HTTP/1.1\u001b[0m\" 404 -\n",
      "127.0.0.1 - - [14/Apr/2021 15:44:39] \"\u001b[33mGET / HTTP/1.1\u001b[0m\" 404 -\n",
      "127.0.0.1 - - [14/Apr/2021 15:44:39] \"\u001b[33mGET / HTTP/1.1\u001b[0m\" 404 -\n",
      "127.0.0.1 - - [14/Apr/2021 15:44:40] \"\u001b[33mGET / HTTP/1.1\u001b[0m\" 404 -\n",
      "127.0.0.1 - - [14/Apr/2021 15:44:40] \"\u001b[33mGET / HTTP/1.1\u001b[0m\" 404 -\n",
      "127.0.0.1 - - [14/Apr/2021 15:44:40] \"\u001b[33mGET / HTTP/1.1\u001b[0m\" 404 -\n",
      "127.0.0.1 - - [14/Apr/2021 15:44:40] \"\u001b[33mGET / HTTP/1.1\u001b[0m\" 404 -\n",
      "127.0.0.1 - - [14/Apr/2021 15:44:41] \"\u001b[33mGET / HTTP/1.1\u001b[0m\" 404 -\n",
      "127.0.0.1 - - [14/Apr/2021 15:44:41] \"\u001b[33mGET / HTTP/1.1\u001b[0m\" 404 -\n",
      "127.0.0.1 - - [14/Apr/2021 15:44:41] \"\u001b[33mGET / HTTP/1.1\u001b[0m\" 404 -\n",
      "127.0.0.1 - - [14/Apr/2021 15:44:41] \"\u001b[33mGET / HTTP/1.1\u001b[0m\" 404 -\n",
      "127.0.0.1 - - [14/Apr/2021 15:44:42] \"\u001b[33mGET / HTTP/1.1\u001b[0m\" 404 -\n",
      "127.0.0.1 - - [14/Apr/2021 15:44:42] \"\u001b[33mGET / HTTP/1.1\u001b[0m\" 404 -\n",
      "127.0.0.1 - - [14/Apr/2021 15:44:42] \"\u001b[33mGET / HTTP/1.1\u001b[0m\" 404 -\n",
      "127.0.0.1 - - [14/Apr/2021 15:44:42] \"\u001b[33mGET / HTTP/1.1\u001b[0m\" 404 -\n",
      "127.0.0.1 - - [14/Apr/2021 15:44:43] \"\u001b[33mGET / HTTP/1.1\u001b[0m\" 404 -\n"
     ]
    }
   ],
   "source": [
    "if __name__ == \"__main__\":\n",
    "    app.run(host=host_addr, port=port_num)"
   ]
  },
  {
   "cell_type": "code",
   "execution_count": null,
   "metadata": {},
   "outputs": [],
   "source": []
  }
 ],
 "metadata": {
  "kernelspec": {
   "name": "python376jvsc74a57bd03e592c4a5b47bd41395c84b4363f15991f7bccf133fc99f5f27935a994dd51d8",
   "display_name": "Python 3.7.6 64-bit ('tensorflow': conda)"
  },
  "language_info": {
   "codemirror_mode": {
    "name": "ipython",
    "version": 3
   },
   "file_extension": ".py",
   "mimetype": "text/x-python",
   "name": "python",
   "nbconvert_exporter": "python",
   "pygments_lexer": "ipython3",
   "version": "3.7.6-final"
  }
 },
 "nbformat": 4,
 "nbformat_minor": 4
}