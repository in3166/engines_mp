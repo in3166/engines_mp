{
 "cells": [
  {
   "cell_type": "code",
   "execution_count": 1,
   "metadata": {},
   "outputs": [],
   "source": [
    "from flask_restful import Api, Resource, reqparse\n",
    "\n",
    "class TestApi(Resource):\n",
    "  def get(self):\n",
    "    return {\n",
    "      'resultStatus': 'SUCCESS',\n",
    "      'message': \"Hello Api Handler\"\n",
    "      }\n",
    "\n",
    "  def post(self):\n",
    "    print(self)\n",
    "    parser = reqparse.RequestParser()\n",
    "    parser.add_argument('type', type=str)\n",
    "    parser.add_argument('message', type=str)\n",
    "\n",
    "    args = parser.parse_args()\n",
    "\n",
    "    print(args)\n",
    "    # note, the post req from frontend needs to match the strings here (e.g. 'type and 'message')\n",
    "\n",
    "    request_type = args['type']\n",
    "    request_json = args['message']\n",
    "    # ret_status, ret_msg = ReturnData(request_type, request_json)\n",
    "    # currently just returning the req straight\n",
    "    ret_status = request_type\n",
    "    ret_msg = request_json\n",
    "\n",
    "    if ret_msg:\n",
    "      message = \"Your Message Requested: {}\".format(ret_msg)\n",
    "    else:\n",
    "      message = \"No Msg\"\n",
    "    \n",
    "    final_ret = {\"status\": \"Success\", \"message\": message}\n",
    "\n",
    "    return final_ret"
   ]
  },
  {
   "cell_type": "code",
   "execution_count": null,
   "metadata": {},
   "outputs": [],
   "source": []
  }
 ],
 "metadata": {
  "kernelspec": {
   "display_name": "Python 3",
   "language": "python",
   "name": "python3"
  },
  "language_info": {
   "codemirror_mode": {
    "name": "ipython",
    "version": 3
   },
   "file_extension": ".py",
   "mimetype": "text/x-python",
   "name": "python",
   "nbconvert_exporter": "python",
   "pygments_lexer": "ipython3",
   "version": "3.7.6"
  }
 },
 "nbformat": 4,
 "nbformat_minor": 4
}
