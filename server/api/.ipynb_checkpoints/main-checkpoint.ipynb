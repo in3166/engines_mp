{
 "cells": [
  {
   "cell_type": "code",
   "execution_count": null,
   "metadata": {},
   "outputs": [],
   "source": [
    "# file name : index.py\n",
    "# pwd : /project_name/app/main/index.py\n",
    " \n",
    "from flaskimport Blueprint, request, render_template, flash, redirect, url_for\n",
    "from flaskimport current_app as app\n",
    "# 추가할 모듈이 있다면 추가\n",
    " \n",
    "main= Blueprint('main', __name__, url_prefix='/')\n",
    " \n",
    "@main.route('/main', methods=['GET'])\n",
    "def index():\n",
    "      # /main/index.html은 사실 /project_name/app/templates/main/index.html을 가리킵니다.\n",
    "      return render_template('/main/index.html')\n",
    "\n",
    "@app.route('/predict', methods=['POST'])\n",
    "def predict():\n",
    "    return {\n",
    "      'resultStatus': 'SUCCESS',\n",
    "      'message': \"Predict\"\n",
    "      }\n",
    "\n",
    "@app.route(\"/test\")\n",
    "def chart1():             \n",
    "    return {\n",
    "      'resultStatus': 'SUCCESS',\n",
    "      'message': \"/test [GET]\"\n",
    "      }"
   ]
  }
 ],
 "metadata": {
  "kernelspec": {
   "display_name": "Python 3",
   "language": "python",
   "name": "python3"
  },
  "language_info": {
   "codemirror_mode": {
    "name": "ipython",
    "version": 3
   },
   "file_extension": ".py",
   "mimetype": "text/x-python",
   "name": "python",
   "nbconvert_exporter": "python",
   "pygments_lexer": "ipython3",
   "version": "3.7.6"
  }
 },
 "nbformat": 4,
 "nbformat_minor": 4
}
